{
 "cells": [
  {
   "cell_type": "markdown",
   "metadata": {
    "colab_type": "text",
    "id": "s9qPU1X8zb3D"
   },
   "source": [
    "[![Open In Colab](https://colab.research.google.com/assets/colab-badge.svg)](https://colab.research.google.com/github/dl-ub-summer-school/2019/blob/master/seminar1.ipynb)"
   ]
  },
  {
   "cell_type": "code",
   "execution_count": 0,
   "metadata": {
    "colab": {},
    "colab_type": "code",
    "id": "HmI5hQfU3b0m"
   },
   "outputs": [],
   "source": [
    "import torch\n",
    "import random\n",
    "import numpy as np\n",
    "from sklearn.datasets import make_regression\n",
    "from torch.utils.data import Dataset, DataLoader, random_split"
   ]
  },
  {
   "cell_type": "markdown",
   "metadata": {
    "colab_type": "text",
    "id": "TEct1_Ta57DT"
   },
   "source": [
    "# Intro to Pytorch and tensors"
   ]
  },
  {
   "cell_type": "markdown",
   "metadata": {
    "colab_type": "text",
    "id": "G66kbZ_mf0Eq"
   },
   "source": [
    "## Initializing tensors and operations on tensors"
   ]
  },
  {
   "cell_type": "code",
   "execution_count": 0,
   "metadata": {
    "colab": {
     "base_uri": "https://localhost:8080/",
     "height": 121
    },
    "colab_type": "code",
    "id": "JcNWBOmZ4U_1",
    "outputId": "e577d542-8369-4533-fec4-e22f34d5b6b4"
   },
   "outputs": [
    {
     "name": "stdout",
     "output_type": "stream",
     "text": [
      "tensor([[0.9063, 0.9389, 0.1697],\n",
      "        [0.4062, 0.9414, 0.8867],\n",
      "        [0.1088, 0.6782, 0.8232],\n",
      "        [0.8828, 0.1779, 0.5482],\n",
      "        [0.7369, 0.6923, 0.0397]])\n",
      "tensor(0.0397)\n"
     ]
    }
   ],
   "source": [
    "# Initializing emtpy matrix\n",
    "\n",
    "x = torch.rand(5, 3)\n",
    "print(x)\n",
    "# Initializing random matrix\n",
    "\n",
    "# Accessing element\n",
    "print(x[4,2])\n",
    "# Size\n",
    "\n",
    "# Operators\n",
    "\n",
    "## Adding\n",
    "\n",
    "## Element wise multiplication\n",
    "\n",
    "## Element wise division\n",
    "\n",
    "## changing shape"
   ]
  },
  {
   "cell_type": "code",
   "execution_count": 0,
   "metadata": {
    "colab": {
     "base_uri": "https://localhost:8080/",
     "height": 35
    },
    "colab_type": "code",
    "id": "yDTX7BP7FOdk",
    "outputId": "34de6e4c-e592-4686-9d60-fddd583e0ee6"
   },
   "outputs": [
    {
     "name": "stdout",
     "output_type": "stream",
     "text": [
      "torch.Size([5, 3])\n"
     ]
    }
   ],
   "source": [
    "print(x.size())"
   ]
  },
  {
   "cell_type": "code",
   "execution_count": 0,
   "metadata": {
    "colab": {},
    "colab_type": "code",
    "id": "xff4EWIPFYW5"
   },
   "outputs": [],
   "source": [
    "y = torch.rand(5,3)"
   ]
  },
  {
   "cell_type": "code",
   "execution_count": 0,
   "metadata": {
    "colab": {
     "base_uri": "https://localhost:8080/",
     "height": 104
    },
    "colab_type": "code",
    "id": "rhiKfpiNFfk9",
    "outputId": "316ab351-77ad-4072-b742-2b0e70df6085"
   },
   "outputs": [
    {
     "data": {
      "text/plain": [
       "tensor([[0.4165, 0.3359, 0.1496],\n",
       "        [0.3316, 0.3648, 0.6268],\n",
       "        [0.0566, 0.1764, 0.7073],\n",
       "        [0.3733, 0.1163, 0.0076],\n",
       "        [0.5378, 0.2885, 0.0016]])"
      ]
     },
     "execution_count": 10,
     "metadata": {
      "tags": []
     },
     "output_type": "execute_result"
    }
   ],
   "source": [
    "x * y"
   ]
  },
  {
   "cell_type": "code",
   "execution_count": 0,
   "metadata": {
    "colab": {
     "base_uri": "https://localhost:8080/",
     "height": 69
    },
    "colab_type": "code",
    "id": "qCkQOGy8F1C2",
    "outputId": "03d1eace-8ef4-4a33-f190-e58d9d54dcf2"
   },
   "outputs": [
    {
     "data": {
      "text/plain": [
       "tensor([[1.7159, 1.3939, 1.2223],\n",
       "        [2.1336, 1.2819, 2.1070],\n",
       "        [1.4913, 0.9932, 1.4930]])"
      ]
     },
     "execution_count": 13,
     "metadata": {
      "tags": []
     },
     "output_type": "execute_result"
    }
   ],
   "source": [
    "torch.mm(x.t(), y)"
   ]
  },
  {
   "cell_type": "code",
   "execution_count": 0,
   "metadata": {
    "colab": {},
    "colab_type": "code",
    "id": "JPdu3YcSGcNE"
   },
   "outputs": [],
   "source": [
    "x = torch.rand(5, 10, 4, 7)"
   ]
  },
  {
   "cell_type": "code",
   "execution_count": 0,
   "metadata": {
    "colab": {
     "base_uri": "https://localhost:8080/",
     "height": 35
    },
    "colab_type": "code",
    "id": "4SYe5c8LGxSM",
    "outputId": "e715d26b-6d26-4a20-cab1-6754f8cafd6e"
   },
   "outputs": [
    {
     "data": {
      "text/plain": [
       "torch.Size([4, 5, 4, 2])"
      ]
     },
     "execution_count": 20,
     "metadata": {
      "tags": []
     },
     "output_type": "execute_result"
    }
   ],
   "source": [
    "x[0:-1, 5:10, :, 1:3].size()"
   ]
  },
  {
   "cell_type": "code",
   "execution_count": 0,
   "metadata": {
    "colab": {},
    "colab_type": "code",
    "id": "vkb4PNQ9HQ3p"
   },
   "outputs": [],
   "source": [
    "x = torch.rand(5, 4)"
   ]
  },
  {
   "cell_type": "code",
   "execution_count": 0,
   "metadata": {
    "colab": {
     "base_uri": "https://localhost:8080/",
     "height": 35
    },
    "colab_type": "code",
    "id": "vFLVAPYmHTCg",
    "outputId": "3ea4aacf-a718-4a66-d9a5-85360bd15bbd"
   },
   "outputs": [
    {
     "name": "stdout",
     "output_type": "stream",
     "text": [
      "torch.Size([2, 10])\n"
     ]
    }
   ],
   "source": [
    "x1 = x.view(-1, 10)\n",
    "print(x1.size())"
   ]
  },
  {
   "cell_type": "markdown",
   "metadata": {
    "colab_type": "text",
    "id": "JSqA9EszZT6T"
   },
   "source": [
    "## Tensor slicing"
   ]
  },
  {
   "cell_type": "code",
   "execution_count": 0,
   "metadata": {
    "colab": {
     "base_uri": "https://localhost:8080/",
     "height": 35
    },
    "colab_type": "code",
    "id": "2boMs296YLRS",
    "outputId": "d31527dd-90c1-45db-d554-e76c45a2d5f3"
   },
   "outputs": [
    {
     "name": "stdout",
     "output_type": "stream",
     "text": [
      "torch.Size([5, 3, 30])\n"
     ]
    }
   ],
   "source": [
    "# x = torch.rand(5, 3, 30)\n",
    "# print(x.size())\n",
    "# print(x[1:5, :, 4:10].size())\n",
    "# print(x[1:5, :, 4:-1].size())"
   ]
  },
  {
   "cell_type": "markdown",
   "metadata": {
    "colab_type": "text",
    "id": "BjkmNzvObtSn"
   },
   "source": [
    "## Matrix multiplication"
   ]
  },
  {
   "cell_type": "code",
   "execution_count": 0,
   "metadata": {
    "colab": {},
    "colab_type": "code",
    "id": "obLWaPGGbwXC"
   },
   "outputs": [],
   "source": [
    "m = torch.mm(x, y.transpose(0, 1))\n",
    "\n",
    "#m = torch.mm(x.transpose(0, 1), y)\n",
    "\n",
    "print(m)\n",
    "print(m.size())"
   ]
  },
  {
   "cell_type": "code",
   "execution_count": 0,
   "metadata": {
    "colab": {},
    "colab_type": "code",
    "id": "Tmyr4Zz-aBMt"
   },
   "outputs": [],
   "source": [
    "# x = torch.rand(5, 4)\n",
    "# y = torch.rand(4, 3)\n",
    "\n",
    "# print(x.mm(y).size())"
   ]
  },
  {
   "cell_type": "markdown",
   "metadata": {
    "colab_type": "text",
    "id": "kVNUPwmUaJLS"
   },
   "source": [
    "# Text => Numbers (Word embedding)"
   ]
  },
  {
   "cell_type": "markdown",
   "metadata": {
    "colab_type": "text",
    "id": "gZSEbjQVbqMk"
   },
   "source": [
    "## One hot Encoding"
   ]
  },
  {
   "cell_type": "code",
   "execution_count": 0,
   "metadata": {
    "colab": {},
    "colab_type": "code",
    "id": "et8AnZcna2Fz"
   },
   "outputs": [],
   "source": [
    "# sentence to vector\n",
    "sentence = \"The dog barked in the park. The owner of the dog put him on the leash since he barked.\"\n",
    "words = []\n",
    "for s in sentence.lower().split(\" \"):\n",
    "  words.append(s.strip(\".\"))"
   ]
  },
  {
   "cell_type": "code",
   "execution_count": 0,
   "metadata": {
    "colab": {},
    "colab_type": "code",
    "id": "L3QsLUUMIt5t"
   },
   "outputs": [],
   "source": [
    "vocab = [\"UNK\", \"the\", \"dog\", \"park\", \"barked\", \"he\", \"is\", \"put\", \"owner\"]"
   ]
  },
  {
   "cell_type": "code",
   "execution_count": 0,
   "metadata": {
    "colab": {},
    "colab_type": "code",
    "id": "-H8afntEJDDE"
   },
   "outputs": [],
   "source": [
    "vocab2idx = {x: i for i, x in enumerate(vocab)}"
   ]
  },
  {
   "cell_type": "code",
   "execution_count": 0,
   "metadata": {
    "colab": {},
    "colab_type": "code",
    "id": "wXe-XlkpJNQ-"
   },
   "outputs": [],
   "source": [
    "def word2onehot(word):\n",
    "  pos = vocab2idx.get(word, 0)\n",
    "  one_hot = [0] * len(vocab)\n",
    "  one_hot[pos] = 1\n",
    "  return one_hot"
   ]
  },
  {
   "cell_type": "code",
   "execution_count": 0,
   "metadata": {
    "colab": {},
    "colab_type": "code",
    "id": "QQA0fdztJq5H"
   },
   "outputs": [],
   "source": [
    "onehot = []\n",
    "for w in words:\n",
    "  onehot.append(word2onehot(w))"
   ]
  },
  {
   "cell_type": "code",
   "execution_count": 0,
   "metadata": {
    "colab": {
     "base_uri": "https://localhost:8080/",
     "height": 345
    },
    "colab_type": "code",
    "id": "zCmIMPRdLUHO",
    "outputId": "562df4aa-b545-4199-d86f-421a449c6b23"
   },
   "outputs": [
    {
     "name": "stdout",
     "output_type": "stream",
     "text": [
      "tensor([[0, 1, 0, 0, 0, 0, 0, 0, 0],\n",
      "        [0, 0, 1, 0, 0, 0, 0, 0, 0],\n",
      "        [0, 0, 0, 0, 1, 0, 0, 0, 0],\n",
      "        [1, 0, 0, 0, 0, 0, 0, 0, 0],\n",
      "        [0, 1, 0, 0, 0, 0, 0, 0, 0],\n",
      "        [0, 0, 0, 1, 0, 0, 0, 0, 0],\n",
      "        [0, 1, 0, 0, 0, 0, 0, 0, 0],\n",
      "        [0, 0, 0, 0, 0, 0, 0, 0, 1],\n",
      "        [1, 0, 0, 0, 0, 0, 0, 0, 0],\n",
      "        [0, 1, 0, 0, 0, 0, 0, 0, 0],\n",
      "        [0, 0, 1, 0, 0, 0, 0, 0, 0],\n",
      "        [0, 0, 0, 0, 0, 0, 0, 1, 0],\n",
      "        [1, 0, 0, 0, 0, 0, 0, 0, 0],\n",
      "        [1, 0, 0, 0, 0, 0, 0, 0, 0],\n",
      "        [0, 1, 0, 0, 0, 0, 0, 0, 0],\n",
      "        [1, 0, 0, 0, 0, 0, 0, 0, 0],\n",
      "        [1, 0, 0, 0, 0, 0, 0, 0, 0],\n",
      "        [0, 0, 0, 0, 0, 1, 0, 0, 0],\n",
      "        [0, 0, 0, 0, 1, 0, 0, 0, 0]])\n"
     ]
    }
   ],
   "source": [
    "tensor_onehot = torch.tensor(onehot)\n",
    "print(tensor_onehot)"
   ]
  },
  {
   "cell_type": "code",
   "execution_count": 0,
   "metadata": {
    "colab": {},
    "colab_type": "code",
    "id": "gE0URc5wALry"
   },
   "outputs": [],
   "source": [
    "# Exercise: Calculate co-occurence."
   ]
  },
  {
   "cell_type": "markdown",
   "metadata": {
    "colab_type": "text",
    "id": "octkE2UTXo_J"
   },
   "source": [
    "# Linear regression"
   ]
  },
  {
   "cell_type": "markdown",
   "metadata": {
    "colab_type": "text",
    "id": "8AQZr-FEkDQU"
   },
   "source": [
    "## Data loading"
   ]
  },
  {
   "cell_type": "code",
   "execution_count": 0,
   "metadata": {
    "colab": {},
    "colab_type": "code",
    "id": "dtlUcIhzbet6"
   },
   "outputs": [],
   "source": [
    "class ToyDataset(Dataset):\n",
    "    \"\"\"Sample dataset for regression.\"\"\"\n",
    "\n",
    "    def __init__(self, feature_count=2, sample_count=100):\n",
    "        self.X, self.y = make_regression(\n",
    "            n_samples=sample_count, n_features=feature_count, \n",
    "            noise=0.1)\n",
    "\n",
    "    def __len__(self):\n",
    "        return len(self.X)\n",
    "\n",
    "    def __getitem__(self, idx):\n",
    "        return self.X[idx], self.y[idx]"
   ]
  },
  {
   "cell_type": "code",
   "execution_count": 0,
   "metadata": {
    "colab": {
     "base_uri": "https://localhost:8080/",
     "height": 35
    },
    "colab_type": "code",
    "id": "jFg8q5DIbkS5",
    "outputId": "c658488f-6a56-4e2f-d565-7b6466ca06ea"
   },
   "outputs": [
    {
     "name": "stdout",
     "output_type": "stream",
     "text": [
      "All data 100 (100, 2)\n"
     ]
    }
   ],
   "source": [
    "# Create dataset and split\n",
    "full_dataset = ToyDataset(sample_count=100, feature_count=2)\n",
    "\n",
    "print(\"All data\", len(full_dataset), full_dataset.X.shape)"
   ]
  },
  {
   "cell_type": "code",
   "execution_count": 0,
   "metadata": {
    "colab": {},
    "colab_type": "code",
    "id": "U8FltQTwfTLt"
   },
   "outputs": [],
   "source": [
    "train_size = int(0.8 * len(full_dataset))\n",
    "test_size = len(full_dataset) - train_size\n",
    "\n",
    "train_dataset, test_dataset = random_split(\n",
    "    full_dataset, [train_size, test_size])"
   ]
  },
  {
   "cell_type": "code",
   "execution_count": 0,
   "metadata": {
    "colab": {
     "base_uri": "https://localhost:8080/",
     "height": 35
    },
    "colab_type": "code",
    "id": "4VQCU8OjQAzO",
    "outputId": "4e4f6686-3445-4dd9-db94-cc1cdef41f63"
   },
   "outputs": [
    {
     "name": "stdout",
     "output_type": "stream",
     "text": [
      "20\n"
     ]
    }
   ],
   "source": [
    "print(len(test_dataset))"
   ]
  },
  {
   "cell_type": "markdown",
   "metadata": {
    "colab_type": "text",
    "id": "HK9QhL17kSu_"
   },
   "source": [
    "## Regression"
   ]
  },
  {
   "cell_type": "code",
   "execution_count": 0,
   "metadata": {
    "colab": {},
    "colab_type": "code",
    "id": "QyuiN6ljl5Zh"
   },
   "outputs": [],
   "source": [
    "class LinearRegression():\n",
    "  def __init__(self, learning_rate=0.001, feature_count=2):\n",
    "    # random theta\n",
    "    self.alpha = learning_rate\n",
    "    self.theta = np.random.randn(feature_count)\n",
    "  \n",
    "    \n",
    "  def predict(self, X):\n",
    "    \"\"\"\n",
    "    [\n",
    "     [1,2],\n",
    "     [2,3]\n",
    "    ]\n",
    "    \"\"\"\n",
    "#     for xx in X:\n",
    "#       sum([xxi * t for xxi, t in zip(xx,self.theta)])\n",
    "      \n",
    "    return X.dot(self.theta)\n",
    "    \n",
    "  def calculate_loss(self, X, y):\n",
    "    # sum(y_pred - y ^ 2)\n",
    "    y_pred = self.predict(X)\n",
    "    J = np.sum((y_pred - y) ** 2) / len(y)\n",
    "    \n",
    "    return J\n",
    "  \n",
    "  \n",
    "  def grad(self, X, y):\n",
    "    # sum(y_pred - y ^ 2)\n",
    "    \n",
    "    # sum(2*(y_pred - y)*deriv_y_pred) / m\n",
    "    \n",
    "    # y_pred = theta * X => deriv_y_pred = X\n",
    "    \n",
    "    # y_pred - y\n",
    "    err = self.predict(X) - y\n",
    "    gradient = 2 * X.T.dot(err) / len(y)\n",
    "    return gradient\n",
    "  \n",
    "  \n",
    "  def fit(self, X, y, epochs=5):\n",
    "    # loop through epochs\n",
    "    for e in range(epochs):\n",
    "      gradient = self.grad(X, y)\n",
    "      \n",
    "      # update params\n",
    "      self.theta = self.theta - self.alpha * gradient\n",
    "      \n",
    "      if e % 1000 == 0:\n",
    "        print(\"Loss\", e, \":\", self.calculate_loss(X, y))"
   ]
  },
  {
   "cell_type": "code",
   "execution_count": 0,
   "metadata": {
    "colab": {},
    "colab_type": "code",
    "id": "15KzXh6IZUlh"
   },
   "outputs": [],
   "source": [
    "# Model & test\n",
    "model = LinearRegression(feature_count=2, learning_rate=0.1)\n",
    "\n",
    "X_test, y_test = test_dataset[:]"
   ]
  },
  {
   "cell_type": "code",
   "execution_count": 0,
   "metadata": {
    "colab": {},
    "colab_type": "code",
    "id": "kT4gDaIMkFUO"
   },
   "outputs": [],
   "source": [
    "print(model.calculate_loss(X_test, y_test))\n",
    "for y_true, y_pred in zip(y_test, model.predict(X_test)):\n",
    "  print(f'Y: {y_true:.2f}, Y pred: {y_pred:.2f}')"
   ]
  },
  {
   "cell_type": "code",
   "execution_count": 0,
   "metadata": {
    "colab": {
     "base_uri": "https://localhost:8080/",
     "height": 104
    },
    "colab_type": "code",
    "id": "kC60PdVoYqsG",
    "outputId": "a82ec1ae-5d74-4dcc-e41c-7c3daa5f8c7e"
   },
   "outputs": [
    {
     "name": "stdout",
     "output_type": "stream",
     "text": [
      "Loss 0 : 5864.276074715073\n",
      "Loss 1000 : 0.007518441306127367\n",
      "Loss 2000 : 0.007518441306127367\n",
      "Loss 3000 : 0.007518441306127367\n",
      "Loss 4000 : 0.007518441306127367\n"
     ]
    }
   ],
   "source": [
    "X_train, y_train = train_dataset[:]\n",
    "model.fit(X_train, y_train, epochs=4001)\n"
   ]
  }
 ],
 "metadata": {
  "accelerator": "GPU",
  "colab": {
   "collapsed_sections": [],
   "name": "seminar1 template.ipynb",
   "provenance": [],
   "toc_visible": true,
   "version": "0.3.2"
  },
  "kernelspec": {
   "display_name": "Python 3",
   "language": "python",
   "name": "python3"
  },
  "language_info": {
   "codemirror_mode": {
    "name": "ipython",
    "version": 3
   },
   "file_extension": ".py",
   "mimetype": "text/x-python",
   "name": "python",
   "nbconvert_exporter": "python",
   "pygments_lexer": "ipython3",
   "version": "3.7.2"
  }
 },
 "nbformat": 4,
 "nbformat_minor": 1
}
