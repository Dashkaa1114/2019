{
  "nbformat": 4,
  "nbformat_minor": 0,
  "metadata": {
    "colab": {
      "name": "seminar1 template.ipynb",
      "version": "0.3.2",
      "provenance": [],
      "collapsed_sections": [],
      "toc_visible": true
    },
    "kernelspec": {
      "name": "python3",
      "display_name": "Python 3"
    },
    "accelerator": "GPU"
  },
  "cells": [
    {
      "cell_type": "markdown",
      "metadata": {
        "id": "s9qPU1X8zb3D",
        "colab_type": "text"
      },
      "source": [
        "[![Open In Colab](https://colab.research.google.com/assets/colab-badge.svg)](https://colab.research.google.com/github/dl-ub-summer-school/2019/blob/master/seminar1.ipynb)"
      ]
    },
    {
      "cell_type": "code",
      "metadata": {
        "id": "HmI5hQfU3b0m",
        "colab_type": "code",
        "colab": {}
      },
      "source": [
        "import torch\n",
        "import numpy as np\n",
        "from sklearn.datasets import make_regression\n",
        "from torch.utils.data import Dataset, DataLoader, random_split"
      ],
      "execution_count": 0,
      "outputs": []
    },
    {
      "cell_type": "markdown",
      "metadata": {
        "id": "TEct1_Ta57DT",
        "colab_type": "text"
      },
      "source": [
        "# Intro to Pytorch and tensors"
      ]
    },
    {
      "cell_type": "markdown",
      "metadata": {
        "id": "G66kbZ_mf0Eq",
        "colab_type": "text"
      },
      "source": [
        "## Initializing tensors and operations on tensors"
      ]
    },
    {
      "cell_type": "code",
      "metadata": {
        "id": "JcNWBOmZ4U_1",
        "colab_type": "code",
        "colab": {}
      },
      "source": [
        "# Initializing emtpy matrix\n",
        "\n",
        "# Initializing random matrix\n",
        "\n",
        "# Accessing element\n",
        "\n",
        "# Size\n",
        "\n",
        "# Operators\n",
        "\n",
        "## Adding\n",
        "\n",
        "## Element wise multiplication\n",
        "\n",
        "## Element wise division\n",
        "\n",
        "## changing shape"
      ],
      "execution_count": 0,
      "outputs": []
    },
    {
      "cell_type": "markdown",
      "metadata": {
        "id": "JSqA9EszZT6T",
        "colab_type": "text"
      },
      "source": [
        "## Tensor slicing"
      ]
    },
    {
      "cell_type": "code",
      "metadata": {
        "id": "2boMs296YLRS",
        "colab_type": "code",
        "outputId": "d31527dd-90c1-45db-d554-e76c45a2d5f3",
        "colab": {
          "base_uri": "https://localhost:8080/",
          "height": 35
        }
      },
      "source": [
        "# x = torch.rand(5, 3, 30)\n",
        "# print(x.size())\n",
        "# print(x[1:5, :, 4:10].size())\n",
        "# print(x[1:5, :, 4:-1].size())"
      ],
      "execution_count": 0,
      "outputs": [
        {
          "output_type": "stream",
          "text": [
            "torch.Size([5, 3, 30])\n"
          ],
          "name": "stdout"
        }
      ]
    },
    {
      "cell_type": "markdown",
      "metadata": {
        "id": "BjkmNzvObtSn",
        "colab_type": "text"
      },
      "source": [
        "## Matrix multiplication"
      ]
    },
    {
      "cell_type": "code",
      "metadata": {
        "id": "obLWaPGGbwXC",
        "colab_type": "code",
        "colab": {}
      },
      "source": [
        "m = torch.mm(x, y.transpose(0, 1))\n",
        "\n",
        "#m = torch.mm(x.transpose(0, 1), y)\n",
        "\n",
        "print(m)\n",
        "print(m.size())"
      ],
      "execution_count": 0,
      "outputs": []
    },
    {
      "cell_type": "code",
      "metadata": {
        "colab_type": "code",
        "id": "Tmyr4Zz-aBMt",
        "colab": {}
      },
      "source": [
        "# x = torch.rand(5, 4)\n",
        "# y = torch.rand(4, 3)\n",
        "\n",
        "# print(x.mm(y).size())"
      ],
      "execution_count": 0,
      "outputs": []
    },
    {
      "cell_type": "markdown",
      "metadata": {
        "id": "kVNUPwmUaJLS",
        "colab_type": "text"
      },
      "source": [
        "# Text => Numbers (Word embedding)"
      ]
    },
    {
      "cell_type": "markdown",
      "metadata": {
        "id": "gZSEbjQVbqMk",
        "colab_type": "text"
      },
      "source": [
        "## One hot Encoding"
      ]
    },
    {
      "cell_type": "code",
      "metadata": {
        "id": "WHymRx5zaT34",
        "colab_type": "code",
        "colab": {}
      },
      "source": [
        "def word2onehot(word):\n",
        "    pass"
      ],
      "execution_count": 0,
      "outputs": []
    },
    {
      "cell_type": "code",
      "metadata": {
        "id": "PnDexaizaXfe",
        "colab_type": "code",
        "outputId": "80f65524-4978-4261-c867-0929441df885",
        "colab": {
          "base_uri": "https://localhost:8080/",
          "height": 35
        }
      },
      "source": [
        "vocab = [\"UNK\", \"i\", \"my\", \"name\", \"love\", \"you\", \"is\"]"
      ],
      "execution_count": 0,
      "outputs": [
        {
          "output_type": "stream",
          "text": [
            "{'UNK': 0, 'i': 1, 'my': 2, 'name': 3, 'love': 4, 'you': 5, 'is': 6}\n"
          ],
          "name": "stdout"
        }
      ]
    },
    {
      "cell_type": "code",
      "metadata": {
        "id": "et8AnZcna2Fz",
        "colab_type": "code",
        "colab": {}
      },
      "source": [
        "# sentence to vector"
      ],
      "execution_count": 0,
      "outputs": []
    },
    {
      "cell_type": "markdown",
      "metadata": {
        "id": "octkE2UTXo_J",
        "colab_type": "text"
      },
      "source": [
        "# Linear regression"
      ]
    },
    {
      "cell_type": "markdown",
      "metadata": {
        "id": "8AQZr-FEkDQU",
        "colab_type": "text"
      },
      "source": [
        "## Data loading"
      ]
    },
    {
      "cell_type": "code",
      "metadata": {
        "id": "dtlUcIhzbet6",
        "colab_type": "code",
        "colab": {}
      },
      "source": [
        "class ToyDataset(Dataset):\n",
        "    \"\"\"Sample dataset for regression.\"\"\"\n",
        "    pass"
      ],
      "execution_count": 0,
      "outputs": []
    },
    {
      "cell_type": "code",
      "metadata": {
        "id": "jFg8q5DIbkS5",
        "colab_type": "code",
        "colab": {}
      },
      "source": [
        "# Create dataset and split"
      ],
      "execution_count": 0,
      "outputs": []
    },
    {
      "cell_type": "code",
      "metadata": {
        "id": "U8FltQTwfTLt",
        "colab_type": "code",
        "colab": {}
      },
      "source": [
        "# Iterate through batch_size"
      ],
      "execution_count": 0,
      "outputs": []
    },
    {
      "cell_type": "markdown",
      "metadata": {
        "id": "HK9QhL17kSu_",
        "colab_type": "text"
      },
      "source": [
        "## Regression"
      ]
    },
    {
      "cell_type": "code",
      "metadata": {
        "id": "QyuiN6ljl5Zh",
        "colab_type": "code",
        "colab": {}
      },
      "source": [
        "class LinearRegression():\n",
        "  def __init__(self, learning_rate=0.001):\n",
        "    pass\n",
        "  \n",
        "    \n",
        "  def predict(self, X):\n",
        "    pass\n",
        "    \n",
        "  def calculate_loss(self, X, y):\n",
        "    pass\n",
        "  \n",
        "  \n",
        "  def grad(self, X, y):\n",
        "    pass\n",
        "  \n",
        "  def fit(self, X, y, epochs=5):\n",
        "    pass"
      ],
      "execution_count": 0,
      "outputs": []
    },
    {
      "cell_type": "code",
      "metadata": {
        "id": "15KzXh6IZUlh",
        "colab_type": "code",
        "colab": {}
      },
      "source": [
        "# Model & test"
      ],
      "execution_count": 0,
      "outputs": []
    },
    {
      "cell_type": "code",
      "metadata": {
        "id": "kT4gDaIMkFUO",
        "colab_type": "code",
        "colab": {}
      },
      "source": [
        "# Train"
      ],
      "execution_count": 0,
      "outputs": []
    },
    {
      "cell_type": "code",
      "metadata": {
        "id": "kC60PdVoYqsG",
        "colab_type": "code",
        "colab": {}
      },
      "source": [
        "# Result"
      ],
      "execution_count": 0,
      "outputs": []
    }
  ]
}