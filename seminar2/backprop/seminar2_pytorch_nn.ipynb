{
 "cells": [
  {
   "cell_type": "markdown",
   "metadata": {},
   "source": [
    "<table class=\"buttons\" align=\"center\">\n",
    "    <td>\n",
    "        <a target=\"_blank\" href=\"https://colab.research.google.com/github/dl-ub-summer-school/2019/blob/master/seminar2/backprop/seminar2_pytorch_nn.ipynb\"><img src=\"https://www.tensorflow.org/images/colab_logo_32px.png\" />Google Colab дээр нээх</a>\n",
    "    </td>\n",
    "    <td>\n",
    "        <a target=\"_blank\" href=\"https://github.com/dl-ub-summer-school/2019/blob/master/seminar2/backprop/seminar2_pytorch_nn.ipynb\"><img src=\"https://www.tensorflow.org/images/GitHub-Mark-32px.png\" />GitHub дээр нээх</a>\n",
    "    </td>\n",
    "    <td>\n",
    "        <a target=\"_blank\" href=\"https://sites.google.com/view/dlub/dl-ub-2019\"><img src=\"https://avatars0.githubusercontent.com/u/52651086?s=32&v=4\">Зуны сургалтын вебсайт</a>\n",
    "    </td>\n",
    "</table>"
   ]
  },
  {
   "cell_type": "code",
   "execution_count": 0,
   "metadata": {
    "colab": {},
    "colab_type": "code",
    "id": "jhDW_p7Vg9MZ"
   },
   "outputs": [],
   "source": [
    "import torch\n",
    "import torch\n",
    "import torch.nn as nn\n",
    "import torch.nn.functional as F\n",
    "from torch.autograd import Variable\n",
    "from tqdm import tqdm\n",
    "\n",
    "dtype = torch.float\n",
    "device = torch.device(\"cuda:0\")"
   ]
  },
  {
   "cell_type": "code",
   "execution_count": 0,
   "metadata": {
    "colab": {},
    "colab_type": "code",
    "id": "88RFnMpzNRpe"
   },
   "outputs": [],
   "source": [
    "inputs = list(map(lambda s: Variable(torch.Tensor([s])), [\n",
    "    [0, 0],\n",
    "    [0, 1],\n",
    "    [1, 0],\n",
    "    [1, 1]\n",
    "]))\n",
    "targets = list(map(lambda s: Variable(torch.Tensor([s])), [\n",
    "    [0],\n",
    "    [1],\n",
    "    [1],\n",
    "    [0]\n",
    "]))"
   ]
  },
  {
   "cell_type": "markdown",
   "metadata": {
    "colab_type": "text",
    "id": "0nk_lx_yjWl2"
   },
   "source": [
    "<img src=\"https://lh3.google.com/u/0/d/1MviIaN8DI37JSgcsS77B0Sm1iGjJojDz=w2880-h1544-iv1\" width=\"500px\">"
   ]
  },
  {
   "cell_type": "code",
   "execution_count": 0,
   "metadata": {
    "colab": {},
    "colab_type": "code",
    "id": "MHgyVJlBNrkc"
   },
   "outputs": [],
   "source": [
    "max_iter = 40000\n",
    "learning_rate = 0.3"
   ]
  },
  {
   "cell_type": "code",
   "execution_count": 0,
   "metadata": {
    "colab": {},
    "colab_type": "code",
    "id": "ydIYUs50WpqI"
   },
   "outputs": [],
   "source": [
    "activation = nn.Sigmoid()"
   ]
  },
  {
   "cell_type": "code",
   "execution_count": 0,
   "metadata": {
    "colab": {},
    "colab_type": "code",
    "id": "ZqRhId_0hGM_"
   },
   "outputs": [],
   "source": [
    "class Net(nn.Module):\n",
    "  \n",
    "  def __init__(self, learning_rate=1e-3):\n",
    "    super(Net, self).__init__()\n",
    "    self.inputSize = 2\n",
    "    self.hiddenSize = 2\n",
    "    self.outputSize = 1\n",
    "    self.learning_rate = learning_rate\n",
    "    # weights\n",
    "    self.W1 = Variable(torch.randn(self.inputSize, self.hiddenSize), requires_grad=True)# 2 X 2 tensor\n",
    "    self.W2 = Variable(torch.randn(self.outputSize, self.hiddenSize), requires_grad=True)# 1 X 2 tensor\n",
    "    self.B1 = Variable(torch.randn(self.hiddenSize, 1), requires_grad=True)\n",
    "    self.B2 = Variable(torch.randn(self.outputSize, 1), requires_grad=True)\n",
    "    \n",
    "  def forward(self, X):\n",
    "    z1 = self.W1.mm(X)+self.B1\n",
    "    a1 = activation(z1)\n",
    "    z2 = self.W2.mm(a1)+self.B2\n",
    "    a2 = activation(z2)\n",
    "    return a2\n",
    "  def backward(self, Loss):\n",
    "    Loss.backward()\n",
    "    with torch.no_grad():\n",
    "      self.W2 -= (self.learning_rate * self.W2.grad)\n",
    "      self.B2 -= (self.learning_rate * self.B2.grad)\n",
    "      self.W1 -= (self.learning_rate * self.W1.grad)\n",
    "      self.B1 -= (self.learning_rate * self.B1.grad)\n",
    "      # Manually zero the gradients after updating weights\n",
    "      self.W1.grad.zero_()\n",
    "      self.W2.grad.zero_()\n",
    "      self.B1.grad.zero_()\n",
    "      self.B2.grad.zero_()\n",
    "  def train(self, x, y):\n",
    "    pred = self.forward(x)\n",
    "    Loss = F.binary_cross_entropy(pred, y)\n",
    "#     print(Loss.item())\n",
    "    self.backward(Loss)"
   ]
  },
  {
   "cell_type": "code",
   "execution_count": 6,
   "metadata": {
    "colab": {
     "base_uri": "https://localhost:8080/",
     "height": 34
    },
    "colab_type": "code",
    "executionInfo": {
     "elapsed": 2546,
     "status": "ok",
     "timestamp": 1563862048262,
     "user": {
      "displayName": "Tuvshinbayar Tuvshinzul",
      "photoUrl": "",
      "userId": "01278297265491069175"
     },
     "user_tz": -480
    },
    "id": "IrCONSQ8MQi-",
    "outputId": "8e57ad87-33b7-4b9d-ed6f-3bd866de71d1"
   },
   "outputs": [
    {
     "data": {
      "text/plain": [
       "Net()"
      ]
     },
     "execution_count": 6,
     "metadata": {
      "tags": []
     },
     "output_type": "execute_result"
    }
   ],
   "source": [
    "NN = Net(learning_rate)\n",
    "NN.cuda(device)"
   ]
  },
  {
   "cell_type": "code",
   "execution_count": 7,
   "metadata": {
    "colab": {
     "base_uri": "https://localhost:8080/",
     "height": 34
    },
    "colab_type": "code",
    "executionInfo": {
     "elapsed": 90588,
     "status": "ok",
     "timestamp": 1563862136316,
     "user": {
      "displayName": "Tuvshinbayar Tuvshinzul",
      "photoUrl": "",
      "userId": "01278297265491069175"
     },
     "user_tz": -480
    },
    "id": "Ut4mN04nM0iE",
    "outputId": "3d6f9cd4-fc01-47de-b373-3467855607b2"
   },
   "outputs": [
    {
     "name": "stderr",
     "output_type": "stream",
     "text": [
      "100%|██████████| 40000/40000 [01:27<00:00, 455.43it/s]\n"
     ]
    }
   ],
   "source": [
    "for i in tqdm(range(0, max_iter)):\n",
    "  for input, target in zip(inputs, targets):\n",
    "    NN.train(input.view(input.shape[1], 1), target)"
   ]
  },
  {
   "cell_type": "code",
   "execution_count": 8,
   "metadata": {
    "colab": {
     "base_uri": "https://localhost:8080/",
     "height": 34
    },
    "colab_type": "code",
    "executionInfo": {
     "elapsed": 90580,
     "status": "ok",
     "timestamp": 1563862136318,
     "user": {
      "displayName": "Tuvshinbayar Tuvshinzul",
      "photoUrl": "",
      "userId": "01278297265491069175"
     },
     "user_tz": -480
    },
    "id": "6qL-nK82PR9a",
    "outputId": "22e641ee-8bfe-4656-d225-7e6c334a3025"
   },
   "outputs": [
    {
     "data": {
      "text/plain": [
       "tensor([[0.4806]], grad_fn=<SigmoidBackward>)"
      ]
     },
     "execution_count": 8,
     "metadata": {
      "tags": []
     },
     "output_type": "execute_result"
    }
   ],
   "source": [
    "NN.forward(torch.tensor([\n",
    "    [1],\n",
    "    [1]\n",
    "], dtype=dtype))"
   ]
  },
  {
   "cell_type": "code",
   "execution_count": 0,
   "metadata": {
    "colab": {},
    "colab_type": "code",
    "id": "0DQK3Ii8f_cS"
   },
   "outputs": [],
   "source": [
    "class EasyNet(nn.Module):\n",
    "  def __init__(self):\n",
    "    super(EasyNet, self).__init__()\n",
    "    self.linear1 = torch.nn.Linear(2, 2)\n",
    "    self.linear2 = torch.nn.Linear(2, 1)\n",
    "  def forward(self, x):\n",
    "    z1 = self.linear1(x)\n",
    "    a1 = activation(z1)\n",
    "    z2 = self.linear2(a1)\n",
    "    a2 = activation(z2)\n",
    "    return a2"
   ]
  },
  {
   "cell_type": "code",
   "execution_count": 10,
   "metadata": {
    "colab": {
     "base_uri": "https://localhost:8080/",
     "height": 86
    },
    "colab_type": "code",
    "executionInfo": {
     "elapsed": 96304,
     "status": "ok",
     "timestamp": 1563862142051,
     "user": {
      "displayName": "Tuvshinbayar Tuvshinzul",
      "photoUrl": "",
      "userId": "01278297265491069175"
     },
     "user_tz": -480
    },
    "id": "lWRdL_FemV3E",
    "outputId": "9fda46b5-9992-43a6-fc95-f56846731996"
   },
   "outputs": [
    {
     "data": {
      "text/plain": [
       "EasyNet(\n",
       "  (linear1): Linear(in_features=2, out_features=2, bias=True)\n",
       "  (linear2): Linear(in_features=2, out_features=1, bias=True)\n",
       ")"
      ]
     },
     "execution_count": 10,
     "metadata": {
      "tags": []
     },
     "output_type": "execute_result"
    }
   ],
   "source": [
    "ENN_model = EasyNet()\n",
    "ENN_model.cuda(device)"
   ]
  },
  {
   "cell_type": "code",
   "execution_count": 0,
   "metadata": {
    "colab": {},
    "colab_type": "code",
    "id": "_mCKHrodlwOF"
   },
   "outputs": [],
   "source": [
    "optimizer = torch.optim.SGD(ENN_model.parameters(), lr=learning_rate)"
   ]
  },
  {
   "cell_type": "code",
   "execution_count": 0,
   "metadata": {
    "colab": {},
    "colab_type": "code",
    "id": "2IHM907u6U9Z"
   },
   "outputs": [],
   "source": [
    "loss_fn = torch.nn.MSELoss(reduction='sum')"
   ]
  },
  {
   "cell_type": "code",
   "execution_count": 13,
   "metadata": {
    "colab": {
     "base_uri": "https://localhost:8080/",
     "height": 34
    },
    "colab_type": "code",
    "executionInfo": {
     "elapsed": 270997,
     "status": "ok",
     "timestamp": 1563862316753,
     "user": {
      "displayName": "Tuvshinbayar Tuvshinzul",
      "photoUrl": "",
      "userId": "01278297265491069175"
     },
     "user_tz": -480
    },
    "id": "nQrRirfkmaVK",
    "outputId": "a18a0ef3-2e83-4ed8-db41-5bade98621c0"
   },
   "outputs": [
    {
     "name": "stderr",
     "output_type": "stream",
     "text": [
      "100%|██████████| 40000/40000 [02:54<00:00, 228.58it/s]\n"
     ]
    }
   ],
   "source": [
    "for i in tqdm(range(0, max_iter)):\n",
    "  for input, target in zip(inputs, targets):\n",
    "    pred = ENN_model(input.to(device))\n",
    "#     Loss = loss_fn(pred, target)\n",
    "    Loss = F.binary_cross_entropy(pred, target.to(device))\n",
    "    #print(Loss.item())\n",
    "    Loss.backward()\n",
    "    optimizer.step()\n",
    "    optimizer.zero_grad()"
   ]
  },
  {
   "cell_type": "code",
   "execution_count": 14,
   "metadata": {
    "colab": {
     "base_uri": "https://localhost:8080/",
     "height": 34
    },
    "colab_type": "code",
    "executionInfo": {
     "elapsed": 270991,
     "status": "ok",
     "timestamp": 1563862316754,
     "user": {
      "displayName": "Tuvshinbayar Tuvshinzul",
      "photoUrl": "",
      "userId": "01278297265491069175"
     },
     "user_tz": -480
    },
    "id": "_amHpXGVmi6v",
    "outputId": "493a4ce6-d98c-480c-d82b-a627563c4054"
   },
   "outputs": [
    {
     "data": {
      "text/plain": [
       "tensor([[0.6432]], device='cuda:0', grad_fn=<SigmoidBackward>)"
      ]
     },
     "execution_count": 14,
     "metadata": {
      "tags": []
     },
     "output_type": "execute_result"
    }
   ],
   "source": [
    "ENN_model.forward(inputs[2].to(device))"
   ]
  },
  {
   "cell_type": "code",
   "execution_count": 0,
   "metadata": {
    "colab": {},
    "colab_type": "code",
    "id": "cV3lMYjon2wl"
   },
   "outputs": [],
   "source": []
  }
 ],
 "metadata": {
  "accelerator": "GPU",
  "colab": {
   "collapsed_sections": [],
   "name": "PyTorch nn.Module (XOR).ipynb",
   "provenance": [],
   "version": "0.3.2"
  },
  "kernelspec": {
   "display_name": "Python 3",
   "language": "python",
   "name": "python3"
  },
  "language_info": {
   "codemirror_mode": {
    "name": "ipython",
    "version": 3
   },
   "file_extension": ".py",
   "mimetype": "text/x-python",
   "name": "python",
   "nbconvert_exporter": "python",
   "pygments_lexer": "ipython3",
   "version": "3.7.2"
  }
 },
 "nbformat": 4,
 "nbformat_minor": 1
}
