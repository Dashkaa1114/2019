{
 "cells": [
  {
   "cell_type": "markdown",
   "metadata": {},
   "source": [
    "<table class=\"buttons\" align=\"center\">\n",
    "    <td>\n",
    "        <a target=\"_blank\" href=\"https://colab.research.google.com/github/dl-ub-summer-school/2019/blob/master/seminar2/word2vec/seminar2_word2vec.ipynb\"><img src=\"https://www.tensorflow.org/images/colab_logo_32px.png\" />Google Colab дээр нээх</a>\n",
    "    </td>\n",
    "    <td>\n",
    "        <a target=\"_blank\" href=\"https://github.com/dl-ub-summer-school/2019/blob/master/seminar2/word2vec/seminar2_word2vec.ipynb\"><img src=\"https://www.tensorflow.org/images/GitHub-Mark-32px.png\" />GitHub дээр нээх</a>\n",
    "    </td>\n",
    "    <td>\n",
    "        <a target=\"_blank\" href=\"https://sites.google.com/view/dlub/dl-ub-2019\"><img src=\"https://avatars0.githubusercontent.com/u/52651086?s=32&v=4\">Зуны сургалтын вебсайт</a>\n",
    "    </td>\n",
    "</table>"
   ]
  },
  {
   "cell_type": "code",
   "execution_count": 0,
   "metadata": {
    "colab": {},
    "colab_type": "code",
    "id": "9al4yXLcklM2"
   },
   "outputs": [],
   "source": [
    "import numpy\n",
    "from collections import deque\n",
    "\n",
    "import torch\n",
    "from torch.autograd import Variable\n",
    "import torch.nn as nn\n",
    "import torch.nn.functional as F\n",
    "import torch.optim as optim\n",
    "\n",
    "from tqdm import tqdm\n",
    "import sys\n",
    "\n",
    "numpy.random.seed(2019)\n"
   ]
  },
  {
   "cell_type": "markdown",
   "metadata": {
    "colab_type": "text",
    "id": "OTAVu3iQlic6"
   },
   "source": [
    "![alt text](http://mccormickml.com/assets/word2vec/training_data.png)"
   ]
  },
  {
   "cell_type": "markdown",
   "metadata": {
    "colab_type": "text",
    "id": "1haJgPsikpDJ"
   },
   "source": [
    "  Data Preprocessing"
   ]
  },
  {
   "cell_type": "code",
   "execution_count": 0,
   "metadata": {
    "colab": {},
    "colab_type": "code",
    "id": "RdUl1epzLvZb"
   },
   "outputs": [],
   "source": [
    "class InputData:\n",
    "    def __init__(self, file_name, min_count):\n",
    "        self.input_file_name = file_name\n",
    "        self.get_words(min_count)\n",
    "        self.word_pair_catch = deque()\n",
    "        self.init_sample_table()\n",
    "        print(' Ялгаатай Үгийн тоо: %d' % len(self.word2id))\n",
    "        print(' Текст дэх нийт үгийн тоо: %d' % (self.sentence_length))\n",
    "    \n",
    "    def get_words(self, min_count):\n",
    "        self.input_file = open(self.input_file_name)\n",
    "        self.sentence_length = 0\n",
    "        self.sentence_count = 0\n",
    "        word_frequency = dict()\n",
    "        for line in self.input_file:\n",
    "            self.sentence_count += 1\n",
    "            line = line.strip().split(' ')\n",
    "            self.sentence_length += len(line)\n",
    "            for w in line:\n",
    "                try:\n",
    "                    word_frequency[w] += 1         \n",
    "                except:\n",
    "                    word_frequency[w] = 1\n",
    "        self.word2id = dict()\n",
    "        self.id2word = dict()\n",
    "        wid = 0\n",
    "        self.word_frequency = dict()\n",
    "        for w, c in word_frequency.items():\n",
    "            # Тухайн үг текст дотор min_count aaс бага орсон байвал хасна\n",
    "            if c < min_count:  \n",
    "                self.sentence_length -= c\n",
    "                continue\n",
    "            self.word2id[w] = wid\n",
    "            self.id2word[wid] = w\n",
    "            self.word_frequency[wid] = c\n",
    "            wid += 1\n",
    "        self.word_count = len(self.word2id)\n",
    "\n",
    "    # Negative sampling сонгож авах table үүсгэх\n",
    "    # Текст дэх үг сонгогдох магадлалын тархалт нь тухайн үгсийн давтамжуудыг 3/4 \n",
    "    #  зэрэгт дэвшүүлж нормальчилна. \n",
    "    def init_sample_table(self):\n",
    "        self.sample_table = []\n",
    "        sample_table_size = 1e8\n",
    "        pow_frequency = numpy.array(list(self.word_frequency.values()))**0.75\n",
    "        words_pow = sum(pow_frequency)\n",
    "        ratio = pow_frequency / words_pow\n",
    "        count = numpy.round(ratio * sample_table_size)\n",
    "        for wid, c in enumerate(count):\n",
    "            self.sample_table += [wid] * int(c)\n",
    "        self.sample_table = numpy.array(self.sample_table)\n",
    "    \n",
    "    # Модел сургах хос үгнүүд авах\n",
    "    def get_batch_pairs(self, batch_size, window_size):\n",
    "        while len(self.word_pair_catch) < batch_size:\n",
    "            sentence = self.input_file.readline()\n",
    "            if sentence is None or sentence == '':\n",
    "                self.input_file = open(self.input_file_name)\n",
    "                sentence = self.input_file.readline() \n",
    "            word_ids = []\n",
    "            for word in sentence.strip().split(' '):\n",
    "                try:\n",
    "                    word_ids.append(self.word2id[word])\n",
    "                except:\n",
    "                    continue\n",
    "            for i, u in enumerate(word_ids):\n",
    "                for j, v in enumerate(\n",
    "                        word_ids[max(i - window_size, 0):i + window_size]):\n",
    "                    assert u < self.word_count\n",
    "                    assert v < self.word_count\n",
    "                    if i == j:\n",
    "                        continue\n",
    "                    self.word_pair_catch.append((u, v))\n",
    "        batch_pairs = []\n",
    "        for _ in range(batch_size):\n",
    "            batch_pairs.append(self.word_pair_catch.popleft())\n",
    "        return batch_pairs\n",
    "    # Санамсаргүй negative sample ууд сонгож авах\n",
    "    def get_neg_v_neg_sampling(self, pos_word_pair, count):\n",
    "        neg_v = numpy.random.choice(\n",
    "            self.sample_table, size=(len(pos_word_pair), count)).tolist()\n",
    "        return neg_v\n",
    "    # Нийт хосуудыг тооцоолох\n",
    "    def evaluate_pair_count(self, window_size):\n",
    "      print('length:',self.sentence_length)\n",
    "      return self.sentence_length * (2 * window_size -1) - (\n",
    "            self.sentence_count - 1) * (1 + window_size) * window_size\n"
   ]
  },
  {
   "cell_type": "code",
   "execution_count": 0,
   "metadata": {
    "colab": {},
    "colab_type": "code",
    "id": "egg_MamS-QHo"
   },
   "outputs": [],
   "source": [
    "filename = \"news_politics.txt\"\n",
    "!wget -O {filename} \"https://github.com/dl-ub-summer-school/2019/blob/master/Seminar2/Word2Vec/news_politics.txt\""
   ]
  },
  {
   "cell_type": "code",
   "execution_count": 5,
   "metadata": {
    "colab": {
     "base_uri": "https://localhost:8080/",
     "height": 72
    },
    "colab_type": "code",
    "executionInfo": {
     "elapsed": 11022,
     "status": "ok",
     "timestamp": 1564022179559,
     "user": {
      "displayName": "Ganzorig Batnasan",
      "photoUrl": "",
      "userId": "09922009108838388762"
     },
     "user_tz": -480
    },
    "id": "9BXxcbbQUIG2",
    "outputId": "607b6f99-99bd-4bb0-d8aa-3765bd79705d"
   },
   "outputs": [
    {
     "name": "stdout",
     "output_type": "stream",
     "text": [
      " Ялгаатай Үгийн тоо: 149\n",
      " Текст дэх нийт үгийн тоо: 2435\n"
     ]
    },
    {
     "data": {
      "text/plain": [
       "<__main__.InputData at 0x7f4200cf1dd8>"
      ]
     },
     "execution_count": 5,
     "metadata": {
      "tags": []
     },
     "output_type": "execute_result"
    }
   ],
   "source": [
    "# Сургалтын өгөдлийнхөө мэдээллийг харъя\n",
    "InputData('news_politics.txt',5)"
   ]
  },
  {
   "cell_type": "markdown",
   "metadata": {
    "colab_type": "text",
    "id": "XTaLB5F1nSkK"
   },
   "source": [
    "![alt text](data:image/png;base64,iVBORw0KGgoAAAANSUhEUgAAAM4AAAD1CAMAAAAvfDqYAAAAmVBMVEX////29vZNT08AAQHX19dnaGh/gIDn6Oj8/Pz5+fnw8PDf39/s7Oz19fUfIyO2trbBwcEwNDTQ0NBub2+wsLCdnZ3W1tazs7NCRESPkJBcXV3Jycmpqand3d11dnYABweJioo7PT2fn5+Sk5NISkpWWFgtLy98fHwmKSloaWkeICAMFBQ3OTkVGRkcIiIlKinD1NjK2NsQGBgfQQuXAAATX0lEQVR4nO1diXarOBItFrMJDGYze1i9p3tm/v/jRgIv2CwmhpeYnHdPv8RxaEcXpNJVqaoE8Bd/8Re/CFTkEsTpTzdkGmw3iqTg/5ifbsgk0B0P0jxX4YP8xGp820WKJXxvq17GDnlcrEhG8A/+IfbFVC3f1q4XCD7+Qs+EDh4yy4K82C0Bwhy/YCgPIn+nq9aC9QMUx4YE4Am86eK3hZhSMyFzgx9udgfQBsRjRl4ZRwDfwy824MFWWkBgKieIILfJ4/IEFi0QcmU71gzd0sWfbXYXlggo54R7krz6F0ByAMQE0+EIHZXwAlon/c4DX7MQLCwwBBCD8Kfb3Q7LxYa6sJnAYmT8dEBz/VgGQ8vtxF5zpga5dtALCsQdHxh7C8IA9NMWD7SfbngrJGKcKRooTRPgZqgFlnwNSCdDUv16PsDPUXxbq7Ai7cZ0gLTwcd7JrMb1sf4drXoVZkS+YjpFctpX886MIVbPgyo8PNiDaPnDzRkLzy+/iZ8G+Zb/86ONGQ3Nq76Lxy35Vnz+ZGNGQzgq1QuKpvEI1xa7n23PSETr8wuqUBKvoOdtCvT88ooYap5vGupZYSdfXhE6uj1vOrW1J1XwRy5aCscfbM5IoNPtNZUnuKuxzr8/15yxWKHba/EYk2/e/36oLeORurUfxEM5AZ1mO43yd1MMVezxQOLc2Yocx67/hC0bt9xks513KiF9BTHUBDM11NTDYyB0NH+2dAr//mdCx1vMlY62eHhj3p2NefQpETo2O1M6VyF9BaGT0/OkwyaNtwgdSpwnnQ+p8daMFXXc4u+jCukjMj5mqKjRpuVNKl8RRZ0TRY30t/UJtmCDWt48K+oFVtRrbc0LLMyEkuW2vSt+XhV1+SIGv+2ytwPf1tXI2DGwoo6JoqZDH2QVqd/csNeQt3uYiaJOHJcoagUPorWktXXJt8ODkL7iQeSolKZ8T4NGQTp0jPB5ajZP6/jFLOk0hPQVc6Rz9Ug3MUc6RkNIXzFDOjePdBMzpMM0hfQVhE4azIlObzQUoRNtZ0QH9XoEZ9fZDq1RUBeUjiltPnTSViF9xcwcU/KTZWZXmMSbovRI24VmFwFYetz4/bzGzllIb2LItxAA17hgVnSkYyWkVQYiRtKArGVInBB5TxRIuNCs6JxDO0BgtjzjVR7QAuS9BBJEKBDnRecS2oGn0gK4qt9RCzHTKCuEolyezoiO8HH1SCMdULVNZQdmKiFdl9JyIGE6QZKrc6Czb/FiCCqPMsJSDdfk8VBeHImSZ760N6qkzb8QyS0XTgGdHnCRuCyvOry2N5rde7FM/C/qFSEjsBxyn2qRui8g8920kPxoYSGPKsw8JE9HyWI+cyGS1ls+MLYvfXATw9IKqIRE6iqb18IkMj0LNTXk4AAeeHIMhA6luyp4omYGwdqfKgw2bG5+tIEq9EOQHvnXno5lB0hbhzEms7jQkVhTU8FcQOADb5svfW4Tu2HuP2zZ5MCkXrNs1DaItcBCBW6/ty6Qh8eN4SPP4kB0gXIMOegXwIPR7pFuadEE8w4b4y/inXfFDia1CPJh4IViovsY+hg6Wtx8a9og5YQdeOGadmOCkelIslec4UX288u/iC6PdAP6RDGg7B6FISL/fMfYWT2+lhdADe06/MdEDnaWKCaRjBd5D4K5obucyK/AG7rl9DnV7gemw68cgwmAL/3HfMxwU332TUg/wWqye8hy8gdpfhRLF3e4730G1AQfLTZCOzpgTJeOyLp0ZXwS37i+SaWbwf2kG9HA7UBrP/pPXcEuzj1CM+6sUBgd3IcZSOZliefJFqxE8prs2r3nWxKd+jzSdWjDVNAwsMWZjl48GFVBLZx1vbuQtKHPkg4i/w9dE8pmM8sGlsOsJGKm3HFnXaf6s8baaPxSzk5GbTLCc4MDlAo6vlTRaIm4LX2baFU/VTRftHiZ/BJsLJ0GCmmgPiZdZrGxnpPbY9JSaxfWF6vrZHRQVaxZck3j97AHT8lQgQw/wzrCDwIxB9dGtq9lpumyQ4U0bKZVIdhQq4c4yBdnQ90EZSZFZUjLpwPeXqIMfguR4vGyaMmqSuiwviGI+wAvpCRFV+9jpHvgTSXczyDTKOWreNR30cFA3AZPRsIHHjsSOGmMCvyi4IM4kDkU4BZp2UJzdLBUsD1N19KhQtpt+g/Hgb1+YA8dDK1IXJ1SQkSxiop1qhz4MmghhDxCxLIpSKZgjbut7QMK5WESzCxGtr6BoXSwYQuWi96OLuTXucoZpGbt1ZCrvgRMR853HqM+pUMujhh3iCFaD/IzyH2biy+C5SSGzIGLm8jpheokTyd7cZiQnkx31sC6RTWjn/zmvNMKOWOerIzyQQIpuepORdfiKNkRLIeq1g50iZxe6Mb/elZG3aEddUR4+pVYzd1ujp6Ravo0Pmq2OP9x3RtOBw/7IOlcGQ0Q0jLKGG6z8fbBJc5LpGG72cVjUypYNzmLHHVgZ7sAxTuuLcXe6BtbMlKzaJV4y1xDd6ypgiS4u/HIhBc29svHrHaInF74RRI8roptp/VSmVet7Smn94HKKyB/PupO8VD2ktNYOhyYOyvwPGGAoW5CSk8Pk9FjjLTEq2mU0LmRqvzlVxTTMPe10NYxKEWOGqDn02jnJ0Sr2sroJqQVXg32OZ0Y1pp/aP2pOR1TToIvQmNT+Yargm4Iap6rVe9BeM1GYR5GkZ8iS33kUcFrDQtHO5c7KCPDwitPDnENvE4HQ3aXnGma65z2kn+jTEM94qFVd1I0CGE43lBzwOen/dEcRwdjqWeWzTz31K1bd68m2hu9iJz9QJHTDaeIjOK0ekaH7YqjVk60MzqF/OrJWQ0VOV1YYUO/T6Qnt1dm2v2dFJ3bxDM30rnL7i8iJxpJ54StgHMCtXcNIxw6dOdE5RduIufRk/NVOPFm5+IVTJT1XdSljMTP8s/TI7N6byKnxZPzJaxAloFM6rvuRZ7R4sCqQNHFFKVL2Fh/XeTcweFyJybrS6pzWZZ23zGKFrzVxhhtCjhYf2Zp8aLIqeGEBw1dLpftjvGstcu5EsRQk1Cj8fMOiJrZ78kZhBP+/71q9R+0DkP+2OPvJEWZ1LuiTC9hCpFTwfGM/eJcUGHfJmOYvl1XqmAPVvYpTSFySoylswI7hMtIXjWX3/3+Tso54RHHr8bOO4QO+o8wnk5irpL1ZcqXG9kGRX/cxXmBsJ/i6chE5oymcwJhda3e4T/4qLMn/k6xKga4Gb98O2N0Z8Pj37g5Aq07X5v6bLOH8rYx2YcbO41OZwo2qbWp1Vbxaj6DLtN9A7Zs6fEQTGLZJGJzRj8dSlXFel85XuWZ9NzfOdkCASYyBSuwAqFOh7/O8J/PiyoSOqY6DZ0yvnw0HVFn757OVQXkA/bZCZ19NBEdgtF0hLUq3BumOCZfo07dWcOknS2UpqCj+Q90yufSoztrmKh0Cabjb/bZKh6v2Xgu5h8smMBIfbqzBkKHbKKPpROH5fLeWlS+ArNAZuED9/X6rs5S9w+nhzf5xKl9kk33plRMkCHCunnlQ/IqH7XC+MCo8EIkKJlGo0e/hsjcPfPelApRfSkdCcUQCJetWNY7+wr88w7CNodVjniS7lAG5ojnf0/hLGX+8/Hp7MJt3RDUUyrEa0oFRVIqivCQuR+Vog7VDITB0RNGWAi+FD7QWVR0EOPyjFsGVgZlxgMP3qBNv0TP88coO+LvrHtwSUrFxy2lwpBvKRXOSbkoasUAm9Q9HhgW5PrxGoLqQ1nXqSZvWjtboCSFjUroIFmxQojZlhDLNqzI7b63bC7RbXeS4JZSodynVIjHsr+UYeFagFlCoA7cOjXBlODc23Crd0TLu4Zy7uWaBCpumc/vgWQ8aJw27C6tcN+k7uiolVGrl5G5T6lQbikV4uFaXhtEzpfxo+nzCD1CPA92bKj1j/0W35t7Q407eDmXq4KfDouaadBhL1G6QcvMc0upQOeUCi7GuuCqqP0sTF+IPaqmUXL/x0vQezrSzd+5eG4osWWzTsk0irrEBKpAq40d4VDTnbun8cdTipwS4+mkdUV9txMsM8+iMd+Pjqjbt6fz4Np9XGs38H50hMy6Pp2G7rSe+Arej07NFLTEdxb9sS/vTIf/bJFFx6cp5ARvSIdqbTnfG8P6fnQE3a7GzqZdRqh9KX2ETpy9ER2n2C88oqjb9tlLxD0RlSUd943orM47CG53bF7Srf6m7Gz8f2GCDRFSbHEFWp+/89gpkgkdEiT7NnSceLWJE9S7fRZ27uQSOgb3Tp2NrPWPq341Y3ZFE76bZUMMF8ccYz1ZTXQ53aakQ5E2jKGjBBtPs3Wd9QxvZwR9Masd5uCNfNT+4pSe1zbSBgRkenme6R2jXvls/cWUdIQREVO8u4lqq5msUtKSGjsJt27reXaruH6LsSOs81y712e3m6+wFp0XQfhoHFq9vG9Ax452WUOdPVQn4INoRbv3hQoXLWkhmE5W0OkEYRKXP/w1OpK1ak9JaGbNyb57yvfqjfmhud9DFdsMxMj6mc1EjV6ZpJPJHO5Kanm3NavybHeE7LPW4tNLqxsgN0Otz46pn9jqRRwTX271jsczzvnd81vdyfRI5f5xONzz2Ma2Qt1tOAJfpiMGy+Lm1UCRLpRDW06zWMhVI9taxqZvoSb4WcFsN49rbcpZEafu6XsjdX3vkNY7iqqapqryqb8XeA48ROo55Ojplk6oJgzt+rVPogrExDEjfuPT4TNm+zCITT4RDUnSeU8mdKSSTn/c/hk71ufyI6eeFQSJ1J2gPhuhg7JYe0pHXCd0o5VaIPnII5NlSKdbcWtmvCHvZeH4fAsFleJaT71/PIsVQJhs3okdVYtXktxHRzdW2RcSPM0BKXraJWiUVw0niU+IxUCjNxPVcoOC3cid0YaytTG+mN6ZDDiekat5FilS/oWgu3LoILDxefMybvPzYwga7ay/nCCPhmTB0tNX0A7pS6Qu3RYiGHKb+KVaJtyA/FbqMHkdKDY6d2GVazwdJXAej/oYDOEwoNxFR8T7CLCuUU2KB/th7PjeKh2RCakNCfwNRi7oG2A54Yj5yE5wl4PAx8to5GGr9BDrEU18rjU21CLHfDp6fd4xnXx8YfiOGvQPeIwhV8fdxKYq0I2n/othcIfceepBXMvjqow80JGyD2Oy6j/dxbRrsO9db9m4+gU3OrIBquNMWT/AH1I2b2BE1UCwp8ytwDG7x2IlYzGsnMtdCQZ/XCK2qF4x/RytDFv512Mr2T9VYXEKPClzfIb0MZPjT+A46Gb37jq8E+xhDc3iP9uMybAYVg1r0sJjfxDiMGsg/onSEn8CwbDaMYhZEWyGBcI+hwjTFxIpcRp038VJfAWZBXZ5+/gVmH/G5A8rz0TR4H0w0UgftZ8AS6SAZNMgCzwvSdP34UF12qiCOCPT7Tinrhr45I/xruxg63LST6Sw18QY4qaa5ox4URMXa6XgshBo4OQFGBBP/3iGVBERj2WfH3f0sCrCQgeBeMkT2PIeeDBZocYa8udrDip3QpIpPSaVT1zLUBVEyQKLUjWVX6ORy8FW8M+LSVGFtDE8B2ZxyGDbKYn3IJuJaDZnxD8tdFieaDmb41P9Z7WjqIJfxtvV2A2R70LxxAeATQE50ZKeqFTwn8azZOq5nRFvWdjC6SHSbdBR03CLn6XX1JnNGfGMBAqzFpgUrJaiL1RBIvszbjZnxOtY+8cJ7Dewhqb7C1u2iGFGFzT7Rnga8IxvMmalO/DDKHeNA5lUEZvRkShnkGPh6Q3Q5xWaA6qFQh+2OnGWkoMDUsxrPnQgiEloSBUjAihjLSRk/NlrSBX+ch0waC6WjWDDCwII1XLB9NdbUQZZ9SPS+agkEbA5340Mk/hW1GNXsOqRiLdQEcqDGMYdifJDaJ4Nf4G4K23BP3N6OiAeuhamlJdFikSvZzONllC7QuCxZVs7tDYny0aQd2TBzW/eKdEVP0HoWLM6b7QC174wLc8bHR+0//34aLUGM+1sXQvTiUqX/ABaF6bleaPGHOm0npg0285W+vkbqBT1i0dx/TBasiqwot6tg+OsFPUFLccOUqfVTVErqTWTzbgKzTC5O0WN1ZvogjDteRx/EM1Drc6KuqwmIeBxJFq+/c4RE/doxE/cKer1GvkGDKnl9C74fAj/IYo6qSlqy0TxXGJBMNiH+IkZzzslHuIn5k5HvE+QnzsdWN/FT8yeDiT1qXL+dO7iJ+ZP5y6w/xfQEZe3UN7ZLq5r0GrnGtIkGmDedIC+bsP9gs5WD+wvn441czq3wH5ChxtfuuSncQns/xWdjZxIVH3/JXQugf2/hY5U7VX/FjpglU6CX0MHygNUfw+dcmFKwiSc05zCJDpBFqbVuW/Z2HPf3gHUkYQYlXE6ybz2RtsRxLMLAOvFihdzUtvXnkt4Xj/CXCjkpbE4CbMKk+hEFGCxw44/9+1NIBzP884vMNQEGuNrGP7veDpYWmslps/2/Iu/+NWwTcqvthQsSZ3Vvmgr7Fg6l/7/E/lD3w7rXKfAVh3ksplq+NOVTfgBeLQMgm5DATFvhTHSTH7QOfPvCTlSPBCsFC/iCJ2U1zR5WPrsWyJ2gc7IbhwdeBpnRn6aPc34mQXQoONXfi3+Dxd3M0OATuWHAAAAAElFTkSuQmCC)"
   ]
  },
  {
   "cell_type": "code",
   "execution_count": 0,
   "metadata": {
    "colab": {},
    "colab_type": "code",
    "id": "MwlmorSvMpLx"
   },
   "outputs": [],
   "source": [
    "# SKipgram модел үүсгэе. Энэ класс нь pytorch ийн nn.Module аас удамшиж түүний функцуудыг ашиглана.\n",
    "class SkipGramModel(nn.Module):\n",
    "    def __init__(self, emb_size, emb_dimension):\n",
    "        super(SkipGramModel, self).__init__()\n",
    "        self.emb_size = emb_size\n",
    "        self.emb_dimension = emb_dimension\n",
    "        self.u_embeddings = nn.Embedding(emb_size, emb_dimension, sparse=True)\n",
    "        self.v_embeddings = nn.Embedding(emb_size, emb_dimension, sparse=True)\n",
    "        self.init_emb()\n",
    "# Эмбэддин матрицийн утгуудыг өгөх\n",
    "\n",
    "    def init_emb(self):\n",
    "        initrange = 0.5 / self.emb_dimension\n",
    "        self.u_embeddings.weight.data.uniform_(-initrange, initrange)\n",
    "        self.v_embeddings.weight.data.uniform_(-0, 0)\n",
    "# Тухайн өгөгдлийн багцын алдагдал буюу Loss ийг бодох\n",
    "    def forward(self, pos_u, pos_v, neg_v):\n",
    "        # pos_u = [batch_size,]  pos_v= [ batch_size, ]  neg_v= [batch_size ,5]\n",
    "        emb_u = self.u_embeddings(pos_u)    # [batch_size x emb_dimension] \n",
    "        emb_v = self.v_embeddings(pos_v)    #  [batch_size x emb_dimension]\n",
    "        #  Энд Loss function тэгшитгэлээ бичиж өгнө.\n",
    "\n",
    "        # Elemente wise multiplication\n",
    "        score = torch.mul(emb_u, emb_v)   #[batch_size x emb_dimension] \n",
    "        score = torch.sum(score, dim=1)            #[batch_size]\n",
    "        score = F.logsigmoid(score)               # [batch_size]\n",
    "\n",
    "        neg_emb_v = self.v_embeddings(neg_v)   # [50x5x15]\n",
    "        neg_score = torch.bmm(neg_emb_v, emb_u.unsqueeze(2)).squeeze()  # ([50x5x15],x [50x15x1])  -> [50x5x1] -> [50x5] \n",
    "        neg_score = F.logsigmoid(-1 * neg_score)   # [50x1]\n",
    "        return -1 * (torch.sum(score)+torch.sum(neg_score)) # 1"
   ]
  },
  {
   "cell_type": "markdown",
   "metadata": {
    "colab_type": "text",
    "id": "aQrwMo0hm5Lh"
   },
   "source": [
    "                    Word2Vec model"
   ]
  },
  {
   "cell_type": "code",
   "execution_count": 0,
   "metadata": {
    "colab": {},
    "colab_type": "code",
    "id": "aHPu1T-iMt7H"
   },
   "outputs": [],
   "source": [
    "class Word2Vec:\n",
    "    \"\"\" \n",
    "        input_file_name: Унших файлыг зааж өгнө. Нэг мөр бүрт өгүүлбэрүүд байна.\n",
    "        output_file_name: Name of the final embedding file.\n",
    "        emb_dimension: Word Embedding хийх векторийн хэмжээс .\n",
    "        batch_size: Нэг давталтад хичнээн өгөгдөл ашиглахыг тодорхойлно.\n",
    "        window_size: \n",
    "        iteration: Сургалтыг хэдэн удаа давтахыг тодорхойлно.\n",
    "        initial_lr: Сургах хурд.\n",
    "        min_count: Үгийн хамгийн бага давтамж. Үүнээс бага давтагдаж байгаа үгийг сургахад ашиглахгүй.\n",
    "    \"\"\"\n",
    "  \n",
    "    def __init__(self,\n",
    "                 input_file_name,\n",
    "                 output_file_name,\n",
    "                 emb_dimension=100,\n",
    "                 batch_size=50,\n",
    "                 window_size=5,\n",
    "                 iteration=1,\n",
    "                 initial_lr=0.025,\n",
    "                 min_count=1):\n",
    "        \n",
    "        self.data = InputData(input_file_name, min_count)\n",
    "        self.output_file_name = output_file_name\n",
    "        self.emb_size = len(self.data.word2id)\n",
    "        self.emb_dimension = emb_dimension\n",
    "        self.batch_size = batch_size\n",
    "        self.window_size = window_size\n",
    "        self.iteration = iteration\n",
    "        self.initial_lr = initial_lr\n",
    "        self.skip_gram_model = SkipGramModel(self.emb_size, self.emb_dimension)\n",
    "        self.use_cuda = torch.cuda.is_available()\n",
    "        if self.use_cuda:\n",
    "            self.skip_gram_model.cuda()\n",
    "        self.optimizer = optim.SGD(\n",
    "            self.skip_gram_model.parameters(), lr=self.initial_lr)\n",
    "\n",
    "    def train(self):\n",
    "        pair_count = self.data.evaluate_pair_count(self.window_size)\n",
    "        batch_count = self.iteration * pair_count / self.batch_size\n",
    "        process_bar = tqdm(range(int(batch_count)))\n",
    "        for i in process_bar:\n",
    "            pos_pairs = self.data.get_batch_pairs(self.batch_size,\n",
    "                                                  self.window_size)\n",
    "            neg_v = self.data.get_neg_v_neg_sampling(pos_pairs, 5) # Negative sampling индексүүд    \n",
    "            pos_u = [pair[0] for pair in pos_pairs]  # center word индексүүд\n",
    "            pos_v = [pair[1] for pair in pos_pairs]  # context word индексүүд \n",
    "\n",
    "            pos_u = Variable(torch.LongTensor(pos_u))\n",
    "            pos_v = Variable(torch.LongTensor(pos_v))\n",
    "            neg_v = Variable(torch.LongTensor(neg_v))\n",
    "            if self.use_cuda:\n",
    "                pos_u = pos_u.cuda()\n",
    "                pos_v = pos_v.cuda()\n",
    "                neg_v = neg_v.cuda()\n",
    "\n",
    "            self.optimizer.zero_grad()\n",
    "            \n",
    "            # NN model train hiih heseg\n",
    "            \n",
    "            loss = self.skip_gram_model.forward(pos_u, pos_v, neg_v)\n",
    "            loss.backward()\n",
    "            self.optimizer.step()\n",
    "\n",
    "            process_bar.set_description(\"Loss: %0.8f, lr: %0.6f\" %\n",
    "                                        (loss.data.item(),\n",
    "                                         self.optimizer.param_groups[0]['lr']))\n",
    "            if i * self.batch_size % 10000 == 0:\n",
    "                 lr = self.initial_lr * (1.0 - 1.0 * i / batch_count)\n",
    "                 for param_group in self.optimizer.param_groups:\n",
    "                     param_group['lr'] = lr\n",
    "    def embed(self,word):\n",
    "        if word in self.data.word2id:\n",
    "            return self.skip_gram_model.u_embeddings(torch.tensor([self.data.word2id[word]]).cuda())\n",
    "        else:\n",
    "            print('Энэ үг санд байхгүй байна.')\n",
    "            return None"
   ]
  },
  {
   "cell_type": "code",
   "execution_count": 0,
   "metadata": {
    "colab": {},
    "colab_type": "code",
    "id": "zVASm5S3kUjP"
   },
   "outputs": [],
   "source": [
    "# Hyperparameters\n",
    "emb_dimension=40\n",
    "batch_size=128\n",
    "window_size=4\n",
    "iteration=20\n",
    "initial_lr=0.025\n",
    "min_count=5"
   ]
  },
  {
   "cell_type": "code",
   "execution_count": 9,
   "metadata": {
    "colab": {
     "base_uri": "https://localhost:8080/",
     "height": 54
    },
    "colab_type": "code",
    "executionInfo": {
     "elapsed": 15937,
     "status": "ok",
     "timestamp": 1564022448995,
     "user": {
      "displayName": "Ganzorig Batnasan",
      "photoUrl": "",
      "userId": "09922009108838388762"
     },
     "user_tz": -480
    },
    "id": "ENv3E3w2kVKX",
    "outputId": "8644927c-105f-4693-8a07-31ceb2720149"
   },
   "outputs": [
    {
     "name": "stdout",
     "output_type": "stream",
     "text": [
      " Ялгаатай Үгийн тоо: 149\n",
      " Текст дэх нийт үгийн тоо: 2435\n"
     ]
    }
   ],
   "source": [
    "w2v = Word2Vec(input_file_name='news_politics.txt', output_file_name='embed.txt',emb_dimension=emb_dimension, \\\n",
    "                batch_size=batch_size, window_size=window_size,iteration=iteration, initial_lr=initial_lr,min_count=min_count)\n"
   ]
  },
  {
   "cell_type": "code",
   "execution_count": 0,
   "metadata": {
    "colab": {},
    "colab_type": "code",
    "id": "BrJVIGK1oNRO"
   },
   "outputs": [],
   "source": [
    "# Текст дэх үгнүүдийн индексийг хэвлэж харъя\n",
    "for i,y in w2v.data.word2id.items():\n",
    "    print(i+': '+str(y))  "
   ]
  },
  {
   "cell_type": "code",
   "execution_count": 11,
   "metadata": {
    "colab": {
     "base_uri": "https://localhost:8080/",
     "height": 35
    },
    "colab_type": "code",
    "executionInfo": {
     "elapsed": 913,
     "status": "ok",
     "timestamp": 1564022474808,
     "user": {
      "displayName": "Ganzorig Batnasan",
      "photoUrl": "",
      "userId": "09922009108838388762"
     },
     "user_tz": -480
    },
    "id": "721XikvAhb9D",
    "outputId": "77248af4-f4e3-4c99-82e9-c23b5260423f"
   },
   "outputs": [
    {
     "name": "stdout",
     "output_type": "stream",
     "text": [
      "Энэ үг санд байхгүй байна.\n"
     ]
    }
   ],
   "source": [
    "# үгсийн сан дахь үгийн векторийг хэвлэж харъя\n",
    "w2v.embed('фейсбүк')"
   ]
  },
  {
   "cell_type": "code",
   "execution_count": 0,
   "metadata": {
    "colab": {},
    "colab_type": "code",
    "id": "b7uGBo3ppVTI"
   },
   "outputs": [],
   "source": [
    "w2v.train()"
   ]
  },
  {
   "cell_type": "code",
   "execution_count": 0,
   "metadata": {
    "colab": {},
    "colab_type": "code",
    "id": "tAk0G1qonzDL"
   },
   "outputs": [],
   "source": [
    "# Дараах үгсийн векторийг дүрслэе\n",
    "visualizewords=['ерөнхийлөгч','элбэгдорж','уих','дархан',\n",
    "                'улаанбаатар','эрдэнэт','офшор','хандив',\n",
    "                'мөнгө','тангараг','дайчин','үнэнч']"
   ]
  },
  {
   "cell_type": "markdown",
   "metadata": {
    "colab_type": "text",
    "id": "LHXkd9FD9sJ3"
   },
   "source": [
    "Word2vec ээр сургасан үгнүүдийнхээ векторийг харахын тулд бид хэмжээсийг багасгах шаардлагатай. Ингэхдээ PCA ашиглая"
   ]
  },
  {
   "cell_type": "code",
   "execution_count": 0,
   "metadata": {
    "colab": {},
    "colab_type": "code",
    "id": "nCt6jI3Ze-U-"
   },
   "outputs": [],
   "source": [
    "from sklearn.decomposition import PCA\n",
    "import matplotlib.pyplot as plt"
   ]
  },
  {
   "cell_type": "code",
   "execution_count": 0,
   "metadata": {
    "colab": {},
    "colab_type": "code",
    "id": "LWqY3JyOpX6o"
   },
   "outputs": [],
   "source": [
    "temp=numpy.zeros((len(visualizewords),emb_dimension), dtype='float32')\n",
    "for j,k in enumerate(visualizewords):\n",
    "    if w2v.embed(k) is not None:\n",
    "        temp[j]=w2v.embed(k).cpu().detach().numpy()[0]\n",
    "pca = PCA(n_components = 2)\n",
    "temp=temp-numpy.mean(temp,axis=0)\n",
    "a=pca.fit_transform(temp)"
   ]
  },
  {
   "cell_type": "code",
   "execution_count": 0,
   "metadata": {
    "colab": {
     "base_uri": "https://localhost:8080/",
     "height": 34
    },
    "colab_type": "code",
    "executionInfo": {
     "elapsed": 1129,
     "status": "ok",
     "timestamp": 1563768074421,
     "user": {
      "displayName": "Ganzorig Batnasan",
      "photoUrl": "",
      "userId": "09922009108838388762"
     },
     "user_tz": -480
    },
    "id": "G5970yOC0s1e",
    "outputId": "3a5f2ae7-d958-4cac-ae0e-98cbe257528c"
   },
   "outputs": [
    {
     "name": "stdout",
     "output_type": "stream",
     "text": [
      "(12, 2)\n"
     ]
    }
   ],
   "source": [
    "# Хэмжээс нь багассан өгөгдлийн хэлбэрийг харъя\n",
    "print(a.shape)"
   ]
  },
  {
   "cell_type": "code",
   "execution_count": 0,
   "metadata": {
    "colab": {
     "base_uri": "https://localhost:8080/",
     "height": 268
    },
    "colab_type": "code",
    "executionInfo": {
     "elapsed": 946,
     "status": "ok",
     "timestamp": 1563772972271,
     "user": {
      "displayName": "Ganzorig Batnasan",
      "photoUrl": "",
      "userId": "09922009108838388762"
     },
     "user_tz": -480
    },
    "id": "hCE9-t5m1u_M",
    "outputId": "e8c012b7-f328-4030-a42b-efdd44724a10"
   },
   "outputs": [
    {
     "data": {
      "image/png": "[encoded data removed]",
      "text/plain": [
       "<Figure size 432x288 with 1 Axes>"
      ]
     },
     "metadata": {
      "tags": []
     },
     "output_type": "display_data"
    }
   ],
   "source": [
    "# Сонгож авсан үгнүүдээ хавтгайд байгуулж харъя\n",
    "plt.figure()\n",
    "for i in range(len(visualizewords)):\n",
    "    plt.text(a[i][0],a[i][1],visualizewords[i])\n",
    "    \n",
    "plt.xlim((numpy.min(a[:,0])-0.5, numpy.max(a[:,0])+0.5))\n",
    "plt.ylim((numpy.min(a[:,1])-0.5, numpy.max(a[:,1])+0.5))\n",
    "plt.show()"
   ]
  },
  {
   "cell_type": "code",
   "execution_count": 0,
   "metadata": {
    "colab": {},
    "colab_type": "code",
    "id": "5-clU518Haq-"
   },
   "outputs": [],
   "source": []
  }
 ],
 "metadata": {
  "accelerator": "GPU",
  "colab": {
   "collapsed_sections": [],
   "name": "Sem2_Word2Vec.ipynb",
   "provenance": [],
   "version": "0.3.2"
  },
  "kernelspec": {
   "display_name": "Python 3",
   "language": "python",
   "name": "python3"
  },
  "language_info": {
   "codemirror_mode": {
    "name": "ipython",
    "version": 3
   },
   "file_extension": ".py",
   "mimetype": "text/x-python",
   "name": "python",
   "nbconvert_exporter": "python",
   "pygments_lexer": "ipython3",
   "version": "3.7.2"
  }
 },
 "nbformat": 4,
 "nbformat_minor": 1
}
